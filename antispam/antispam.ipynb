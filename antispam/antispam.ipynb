{
 "cells": [
  {
   "cell_type": "code",
   "execution_count": 1,
   "metadata": {},
   "outputs": [],
   "source": [
    "from sklearn.feature_extraction.text import TfidfVectorizer\n",
    "from sklearn.linear_model import SGDClassifier\n",
    "import base64\n",
    "import pandas\n",
    "from sklearn.model_selection import GridSearchCV"
   ]
  },
  {
   "cell_type": "code",
   "execution_count": 2,
   "metadata": {},
   "outputs": [],
   "source": [
    "def get_data(data_file_path):\n",
    "    data = pandas.read_csv(data_file_path, sep='\\t')\n",
    "    data['Html'] = data['PageBase64'].apply(base64.b64decode)\n",
    "    return data.drop(['PageBase64', 'Url'], axis=1)"
   ]
  },
  {
   "cell_type": "code",
   "execution_count": 3,
   "metadata": {},
   "outputs": [],
   "source": [
    "train_data = get_data('data/kaggle_train_data_tab.csv')\n",
    "vectorizer = TfidfVectorizer(decode_error='ignore')"
   ]
  },
  {
   "cell_type": "code",
   "execution_count": 4,
   "metadata": {},
   "outputs": [
    {
     "data": {
      "text/html": [
       "<div>\n",
       "<style scoped>\n",
       "    .dataframe tbody tr th:only-of-type {\n",
       "        vertical-align: middle;\n",
       "    }\n",
       "\n",
       "    .dataframe tbody tr th {\n",
       "        vertical-align: top;\n",
       "    }\n",
       "\n",
       "    .dataframe thead th {\n",
       "        text-align: right;\n",
       "    }\n",
       "</style>\n",
       "<table border=\"1\" class=\"dataframe\">\n",
       "  <thead>\n",
       "    <tr style=\"text-align: right;\">\n",
       "      <th></th>\n",
       "      <th>Id</th>\n",
       "      <th>Prediction</th>\n",
       "      <th>Html</th>\n",
       "    </tr>\n",
       "  </thead>\n",
       "  <tbody>\n",
       "    <tr>\n",
       "      <th>0</th>\n",
       "      <td>-9222401963271173253</td>\n",
       "      <td>0</td>\n",
       "      <td>b'&lt;!DOCTYPE html PUBLIC \"-//W3C//DTD XHTML 1.0...</td>\n",
       "    </tr>\n",
       "    <tr>\n",
       "      <th>1</th>\n",
       "      <td>-9221399504663603656</td>\n",
       "      <td>0</td>\n",
       "      <td>b'&lt;!DOCTYPE html PUBLIC \"-//W3C//DTD XHTML 1.0...</td>\n",
       "    </tr>\n",
       "    <tr>\n",
       "      <th>2</th>\n",
       "      <td>-9219733223042265364</td>\n",
       "      <td>0</td>\n",
       "      <td>b'&lt;!DOCTYPE HTML PUBLIC \"-//W3C//DTD HTML 4.01...</td>\n",
       "    </tr>\n",
       "    <tr>\n",
       "      <th>3</th>\n",
       "      <td>-9218561774155397294</td>\n",
       "      <td>0</td>\n",
       "      <td>b'&lt;!DOCTYPE HTML PUBLIC \"-//W3C//DTD HTML 4.0 ...</td>\n",
       "    </tr>\n",
       "    <tr>\n",
       "      <th>4</th>\n",
       "      <td>-9216163564171210203</td>\n",
       "      <td>1</td>\n",
       "      <td>b'&lt;!DOCTYPE html PUBLIC \"-//W3C//DTD XHTML 1.0...</td>\n",
       "    </tr>\n",
       "  </tbody>\n",
       "</table>\n",
       "</div>"
      ],
      "text/plain": [
       "                    Id  Prediction  \\\n",
       "0 -9222401963271173253           0   \n",
       "1 -9221399504663603656           0   \n",
       "2 -9219733223042265364           0   \n",
       "3 -9218561774155397294           0   \n",
       "4 -9216163564171210203           1   \n",
       "\n",
       "                                                Html  \n",
       "0  b'<!DOCTYPE html PUBLIC \"-//W3C//DTD XHTML 1.0...  \n",
       "1  b'<!DOCTYPE html PUBLIC \"-//W3C//DTD XHTML 1.0...  \n",
       "2  b'<!DOCTYPE HTML PUBLIC \"-//W3C//DTD HTML 4.01...  \n",
       "3  b'<!DOCTYPE HTML PUBLIC \"-//W3C//DTD HTML 4.0 ...  \n",
       "4  b'<!DOCTYPE html PUBLIC \"-//W3C//DTD XHTML 1.0...  "
      ]
     },
     "execution_count": 4,
     "metadata": {},
     "output_type": "execute_result"
    }
   ],
   "source": [
    "train_data.head()"
   ]
  },
  {
   "cell_type": "code",
   "execution_count": 5,
   "metadata": {},
   "outputs": [],
   "source": [
    "tf_idf_train = vectorizer.fit_transform(train_data.Html)"
   ]
  },
  {
   "cell_type": "code",
   "execution_count": null,
   "metadata": {},
   "outputs": [],
   "source": [
    "parameters = {\n",
    "    'loss': ['hinge', 'log', 'modified_huber', 'squared_hinge', 'perceptron'],\n",
    "    'alpha': [10 ** n for n in range(-6, 7)]\n",
    "}\n",
    "estimator = SGDClassifier()\n",
    "grid_search = GridSearchCV(estimator=estimator, param_grid=parameters, scoring='f1', n_jobs=-1)\n",
    "grid_search.fit(tf_idf_train, train_data.Prediction)"
   ]
  },
  {
   "cell_type": "code",
   "execution_count": null,
   "metadata": {},
   "outputs": [],
   "source": [
    "grid_search.best_score_"
   ]
  },
  {
   "cell_type": "code",
   "execution_count": null,
   "metadata": {},
   "outputs": [],
   "source": [
    "grid_search.best_params_"
   ]
  },
  {
   "cell_type": "code",
   "execution_count": null,
   "metadata": {},
   "outputs": [],
   "source": [
    "best_estimator = SGDClassifier(alpha=1e-6, loss='log')\n",
    "test_data = get_data('data/kaggle_test_data_tab.csv')\n",
    "tf_idf_test = vectorizer.fit_transform(test_data.Html)\n",
    "best_estimator.fit(tf_idf_train, train_data.Prediction)\n",
    "test_data.Prediction = best_estimator.predict(tf_idf_test)"
   ]
  }
 ],
 "metadata": {
  "kernelspec": {
   "display_name": "Python 3",
   "language": "python",
   "name": "python3"
  },
  "language_info": {
   "codemirror_mode": {
    "name": "ipython",
    "version": 3
   },
   "file_extension": ".py",
   "mimetype": "text/x-python",
   "name": "python",
   "nbconvert_exporter": "python",
   "pygments_lexer": "ipython3",
   "version": "3.7.7"
  }
 },
 "nbformat": 4,
 "nbformat_minor": 4
}