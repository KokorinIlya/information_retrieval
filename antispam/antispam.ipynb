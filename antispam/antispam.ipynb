{
 "cells": [
  {
   "cell_type": "code",
   "execution_count": 9,
   "metadata": {},
   "outputs": [],
   "source": [
    "from sklearn.feature_extraction.text import TfidfVectorizer\n",
    "from sklearn.svm import SVC\n",
    "import base64\n",
    "import pandas\n",
    "from sklearn.linear_model import SGDClassifier"
   ]
  },
  {
   "cell_type": "code",
   "execution_count": 2,
   "metadata": {},
   "outputs": [],
   "source": [
    "def get_data(data_file_path):\n",
    "    data = pandas.read_csv(data_file_path, sep='\\t')\n",
    "    data['Html'] = data['PageBase64'].apply(base64.b64decode)\n",
    "    return data.drop(['PageBase64', 'Url'], axis=1)"
   ]
  },
  {
   "cell_type": "code",
   "execution_count": 3,
   "metadata": {},
   "outputs": [],
   "source": [
    "train_data = get_data('data/kaggle_train_data_tab.csv')\n",
    "test_data = get_data('data/kaggle_test_data_tab.csv')\n",
    "vectorizer = TfidfVectorizer(decode_error='ignore')"
   ]
  },
  {
   "cell_type": "code",
   "execution_count": 4,
   "metadata": {},
   "outputs": [
    {
     "data": {
      "text/html": [
       "<div>\n",
       "<style scoped>\n",
       "    .dataframe tbody tr th:only-of-type {\n",
       "        vertical-align: middle;\n",
       "    }\n",
       "\n",
       "    .dataframe tbody tr th {\n",
       "        vertical-align: top;\n",
       "    }\n",
       "\n",
       "    .dataframe thead th {\n",
       "        text-align: right;\n",
       "    }\n",
       "</style>\n",
       "<table border=\"1\" class=\"dataframe\">\n",
       "  <thead>\n",
       "    <tr style=\"text-align: right;\">\n",
       "      <th></th>\n",
       "      <th>Id</th>\n",
       "      <th>Prediction</th>\n",
       "      <th>Html</th>\n",
       "    </tr>\n",
       "  </thead>\n",
       "  <tbody>\n",
       "    <tr>\n",
       "      <th>0</th>\n",
       "      <td>-9222401963271173253</td>\n",
       "      <td>0</td>\n",
       "      <td>b'&lt;!DOCTYPE html PUBLIC \"-//W3C//DTD XHTML 1.0...</td>\n",
       "    </tr>\n",
       "    <tr>\n",
       "      <th>1</th>\n",
       "      <td>-9221399504663603656</td>\n",
       "      <td>0</td>\n",
       "      <td>b'&lt;!DOCTYPE html PUBLIC \"-//W3C//DTD XHTML 1.0...</td>\n",
       "    </tr>\n",
       "    <tr>\n",
       "      <th>2</th>\n",
       "      <td>-9219733223042265364</td>\n",
       "      <td>0</td>\n",
       "      <td>b'&lt;!DOCTYPE HTML PUBLIC \"-//W3C//DTD HTML 4.01...</td>\n",
       "    </tr>\n",
       "    <tr>\n",
       "      <th>3</th>\n",
       "      <td>-9218561774155397294</td>\n",
       "      <td>0</td>\n",
       "      <td>b'&lt;!DOCTYPE HTML PUBLIC \"-//W3C//DTD HTML 4.0 ...</td>\n",
       "    </tr>\n",
       "    <tr>\n",
       "      <th>4</th>\n",
       "      <td>-9216163564171210203</td>\n",
       "      <td>1</td>\n",
       "      <td>b'&lt;!DOCTYPE html PUBLIC \"-//W3C//DTD XHTML 1.0...</td>\n",
       "    </tr>\n",
       "  </tbody>\n",
       "</table>\n",
       "</div>"
      ],
      "text/plain": [
       "                    Id  Prediction  \\\n",
       "0 -9222401963271173253           0   \n",
       "1 -9221399504663603656           0   \n",
       "2 -9219733223042265364           0   \n",
       "3 -9218561774155397294           0   \n",
       "4 -9216163564171210203           1   \n",
       "\n",
       "                                                Html  \n",
       "0  b'<!DOCTYPE html PUBLIC \"-//W3C//DTD XHTML 1.0...  \n",
       "1  b'<!DOCTYPE html PUBLIC \"-//W3C//DTD XHTML 1.0...  \n",
       "2  b'<!DOCTYPE HTML PUBLIC \"-//W3C//DTD HTML 4.01...  \n",
       "3  b'<!DOCTYPE HTML PUBLIC \"-//W3C//DTD HTML 4.0 ...  \n",
       "4  b'<!DOCTYPE html PUBLIC \"-//W3C//DTD XHTML 1.0...  "
      ]
     },
     "execution_count": 4,
     "metadata": {},
     "output_type": "execute_result"
    }
   ],
   "source": [
    "train_data.head()"
   ]
  },
  {
   "cell_type": "code",
   "execution_count": 5,
   "metadata": {},
   "outputs": [
    {
     "data": {
      "text/html": [
       "<div>\n",
       "<style scoped>\n",
       "    .dataframe tbody tr th:only-of-type {\n",
       "        vertical-align: middle;\n",
       "    }\n",
       "\n",
       "    .dataframe tbody tr th {\n",
       "        vertical-align: top;\n",
       "    }\n",
       "\n",
       "    .dataframe thead th {\n",
       "        text-align: right;\n",
       "    }\n",
       "</style>\n",
       "<table border=\"1\" class=\"dataframe\">\n",
       "  <thead>\n",
       "    <tr style=\"text-align: right;\">\n",
       "      <th></th>\n",
       "      <th>Id</th>\n",
       "      <th>Prediction</th>\n",
       "      <th>Html</th>\n",
       "    </tr>\n",
       "  </thead>\n",
       "  <tbody>\n",
       "    <tr>\n",
       "      <th>0</th>\n",
       "      <td>-9219333997282093076</td>\n",
       "      <td>-1</td>\n",
       "      <td>b'&lt;html&gt;\\r\\n\\r\\n&lt;head&gt;\\r\\n&lt;META content=\"text/...</td>\n",
       "    </tr>\n",
       "    <tr>\n",
       "      <th>1</th>\n",
       "      <td>-9216796593526314243</td>\n",
       "      <td>-1</td>\n",
       "      <td>b'&lt;!DOCTYPE html PUBLIC \"-//W3C//DTD XHTML 1.0...</td>\n",
       "    </tr>\n",
       "    <tr>\n",
       "      <th>2</th>\n",
       "      <td>-9216634615606576667</td>\n",
       "      <td>-1</td>\n",
       "      <td>b'&lt;!--\\xd0\\x98\\xd0\\xb4\\xd0\\xb5\\xd1\\x8f \\xd1\\x8...</td>\n",
       "    </tr>\n",
       "    <tr>\n",
       "      <th>3</th>\n",
       "      <td>-9215626373068452590</td>\n",
       "      <td>-1</td>\n",
       "      <td>b'\\n&lt;!DOCTYPE HTML PUBLIC \"-//W3C//DTD HTML 4....</td>\n",
       "    </tr>\n",
       "    <tr>\n",
       "      <th>4</th>\n",
       "      <td>-9215403080479774736</td>\n",
       "      <td>-1</td>\n",
       "      <td>b'\\r\\n\\r\\n\\r\\n&lt;HTML&gt;\\r\\n&lt;HEAD&gt;\\r\\n&lt;title&gt;\\xd0\\...</td>\n",
       "    </tr>\n",
       "  </tbody>\n",
       "</table>\n",
       "</div>"
      ],
      "text/plain": [
       "                    Id  Prediction  \\\n",
       "0 -9219333997282093076          -1   \n",
       "1 -9216796593526314243          -1   \n",
       "2 -9216634615606576667          -1   \n",
       "3 -9215626373068452590          -1   \n",
       "4 -9215403080479774736          -1   \n",
       "\n",
       "                                                Html  \n",
       "0  b'<html>\\r\\n\\r\\n<head>\\r\\n<META content=\"text/...  \n",
       "1  b'<!DOCTYPE html PUBLIC \"-//W3C//DTD XHTML 1.0...  \n",
       "2  b'<!--\\xd0\\x98\\xd0\\xb4\\xd0\\xb5\\xd1\\x8f \\xd1\\x8...  \n",
       "3  b'\\n<!DOCTYPE HTML PUBLIC \"-//W3C//DTD HTML 4....  \n",
       "4  b'\\r\\n\\r\\n\\r\\n<HTML>\\r\\n<HEAD>\\r\\n<title>\\xd0\\...  "
      ]
     },
     "execution_count": 5,
     "metadata": {},
     "output_type": "execute_result"
    }
   ],
   "source": [
    "test_data.head()"
   ]
  },
  {
   "cell_type": "code",
   "execution_count": 6,
   "metadata": {},
   "outputs": [],
   "source": [
    "tf_idf_train = vectorizer.fit_transform(train_data.Html)"
   ]
  },
  {
   "cell_type": "code",
   "execution_count": 10,
   "metadata": {},
   "outputs": [
    {
     "data": {
      "text/plain": [
       "SGDClassifier(alpha=0.0001, average=False, class_weight=None,\n",
       "              early_stopping=False, epsilon=0.1, eta0=0.0, fit_intercept=True,\n",
       "              l1_ratio=0.15, learning_rate='optimal', loss='hinge',\n",
       "              max_iter=1000, n_iter_no_change=5, n_jobs=None, penalty='l2',\n",
       "              power_t=0.5, random_state=None, shuffle=True, tol=0.001,\n",
       "              validation_fraction=0.1, verbose=0, warm_start=False)"
      ]
     },
     "execution_count": 10,
     "metadata": {},
     "output_type": "execute_result"
    }
   ],
   "source": [
    "classifier = SGDClassifier()\n",
    "classifier.fit(tf_idf_train, train_data.Prediction)"
   ]
  },
  {
   "cell_type": "code",
   "execution_count": 11,
   "metadata": {},
   "outputs": [],
   "source": [
    "tf_idf_test = vectorizer.transform(test_data.Html)"
   ]
  },
  {
   "cell_type": "code",
   "execution_count": 12,
   "metadata": {},
   "outputs": [],
   "source": [
    "test_data.Prediction = classifier.predict(tf_idf_test)"
   ]
  },
  {
   "cell_type": "code",
   "execution_count": 13,
   "metadata": {},
   "outputs": [
    {
     "data": {
      "text/html": [
       "<div>\n",
       "<style scoped>\n",
       "    .dataframe tbody tr th:only-of-type {\n",
       "        vertical-align: middle;\n",
       "    }\n",
       "\n",
       "    .dataframe tbody tr th {\n",
       "        vertical-align: top;\n",
       "    }\n",
       "\n",
       "    .dataframe thead th {\n",
       "        text-align: right;\n",
       "    }\n",
       "</style>\n",
       "<table border=\"1\" class=\"dataframe\">\n",
       "  <thead>\n",
       "    <tr style=\"text-align: right;\">\n",
       "      <th></th>\n",
       "      <th>Id</th>\n",
       "      <th>Prediction</th>\n",
       "      <th>Html</th>\n",
       "    </tr>\n",
       "  </thead>\n",
       "  <tbody>\n",
       "    <tr>\n",
       "      <th>0</th>\n",
       "      <td>-9219333997282093076</td>\n",
       "      <td>1</td>\n",
       "      <td>b'&lt;html&gt;\\r\\n\\r\\n&lt;head&gt;\\r\\n&lt;META content=\"text/...</td>\n",
       "    </tr>\n",
       "    <tr>\n",
       "      <th>1</th>\n",
       "      <td>-9216796593526314243</td>\n",
       "      <td>1</td>\n",
       "      <td>b'&lt;!DOCTYPE html PUBLIC \"-//W3C//DTD XHTML 1.0...</td>\n",
       "    </tr>\n",
       "    <tr>\n",
       "      <th>2</th>\n",
       "      <td>-9216634615606576667</td>\n",
       "      <td>0</td>\n",
       "      <td>b'&lt;!--\\xd0\\x98\\xd0\\xb4\\xd0\\xb5\\xd1\\x8f \\xd1\\x8...</td>\n",
       "    </tr>\n",
       "    <tr>\n",
       "      <th>3</th>\n",
       "      <td>-9215626373068452590</td>\n",
       "      <td>0</td>\n",
       "      <td>b'\\n&lt;!DOCTYPE HTML PUBLIC \"-//W3C//DTD HTML 4....</td>\n",
       "    </tr>\n",
       "    <tr>\n",
       "      <th>4</th>\n",
       "      <td>-9215403080479774736</td>\n",
       "      <td>1</td>\n",
       "      <td>b'\\r\\n\\r\\n\\r\\n&lt;HTML&gt;\\r\\n&lt;HEAD&gt;\\r\\n&lt;title&gt;\\xd0\\...</td>\n",
       "    </tr>\n",
       "  </tbody>\n",
       "</table>\n",
       "</div>"
      ],
      "text/plain": [
       "                    Id  Prediction  \\\n",
       "0 -9219333997282093076           1   \n",
       "1 -9216796593526314243           1   \n",
       "2 -9216634615606576667           0   \n",
       "3 -9215626373068452590           0   \n",
       "4 -9215403080479774736           1   \n",
       "\n",
       "                                                Html  \n",
       "0  b'<html>\\r\\n\\r\\n<head>\\r\\n<META content=\"text/...  \n",
       "1  b'<!DOCTYPE html PUBLIC \"-//W3C//DTD XHTML 1.0...  \n",
       "2  b'<!--\\xd0\\x98\\xd0\\xb4\\xd0\\xb5\\xd1\\x8f \\xd1\\x8...  \n",
       "3  b'\\n<!DOCTYPE HTML PUBLIC \"-//W3C//DTD HTML 4....  \n",
       "4  b'\\r\\n\\r\\n\\r\\n<HTML>\\r\\n<HEAD>\\r\\n<title>\\xd0\\...  "
      ]
     },
     "execution_count": 13,
     "metadata": {},
     "output_type": "execute_result"
    }
   ],
   "source": [
    "test_data.head()"
   ]
  },
  {
   "cell_type": "code",
   "execution_count": 29,
   "metadata": {},
   "outputs": [],
   "source": [
    "with open('data/result.csv', 'w') as file:\n",
    "    file.write('Id,Prediction\\n')\n",
    "    for cur_line in test_data.itertuples():\n",
    "        file.write(\"{0},{1}\\n\".format(cur_line.Id, cur_line.Prediction))"
   ]
  },
  {
   "cell_type": "code",
   "execution_count": null,
   "metadata": {},
   "outputs": [],
   "source": []
  }
 ],
 "metadata": {
  "kernelspec": {
   "display_name": "Python 3",
   "language": "python",
   "name": "python3"
  },
  "language_info": {
   "codemirror_mode": {
    "name": "ipython",
    "version": 3
   },
   "file_extension": ".py",
   "mimetype": "text/x-python",
   "name": "python",
   "nbconvert_exporter": "python",
   "pygments_lexer": "ipython3",
   "version": "3.7.7"
  }
 },
 "nbformat": 4,
 "nbformat_minor": 4
}
